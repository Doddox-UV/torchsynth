{
 "cells": [
  {
   "cell_type": "markdown",
   "id": "dominant-nitrogen",
   "metadata": {},
   "source": [
    "# lightningsynth\n",
    "\n",
    "Profiling for our synth on GPUs\n",
    "\n",
    "If this hasn't been merged to master yet, run:\n",
    "```\n",
    "!pip uninstall -y torchsynth\n",
    "!pip install git+https://github.com/turian/torchsynth.git@lightning-synth\n",
    "```"
   ]
  },
  {
   "cell_type": "code",
   "execution_count": null,
   "id": "cordless-organ",
   "metadata": {},
   "outputs": [],
   "source": [
    "import torch\n",
    "import torch.tensor as T\n",
    "from tqdm.auto import tqdm"
   ]
  },
  {
   "cell_type": "code",
   "execution_count": null,
   "id": "minor-cosmetic",
   "metadata": {},
   "outputs": [],
   "source": [
    "from torchsynth.globals import SynthGlobals\n",
    "from torchsynth.synth import Voice"
   ]
  },
  {
   "cell_type": "code",
   "execution_count": null,
   "id": "standing-passenger",
   "metadata": {},
   "outputs": [],
   "source": [
    "synthglobals = SynthGlobals(batch_size=T(256))\n",
    "voice = Voice(synthglobals)"
   ]
  },
  {
   "cell_type": "code",
   "execution_count": null,
   "id": "indie-census",
   "metadata": {},
   "outputs": [],
   "source": [
    "if torch.cuda.is_available():\n",
    "    voice.cuda()"
   ]
  },
  {
   "cell_type": "code",
   "execution_count": null,
   "id": "under-winning",
   "metadata": {},
   "outputs": [],
   "source": [
    "voice.eval()\n",
    "with torch.no_grad():\n",
    "    for i in tqdm(range(1000)):\n",
    "        voice(i)"
   ]
  }
 ],
 "metadata": {
  "jupytext": {
   "cell_metadata_filter": "-all",
   "encoding": "# -*- coding: utf-8 -*-",
   "executable": "/usr/bin/env python3",
   "main_language": "python",
   "notebook_metadata_filter": "-all"
  }
 },
 "nbformat": 4,
 "nbformat_minor": 5
}
